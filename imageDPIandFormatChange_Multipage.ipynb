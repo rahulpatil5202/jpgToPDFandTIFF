{
 "cells": [
  {
   "cell_type": "code",
   "execution_count": 1,
   "metadata": {},
   "outputs": [],
   "source": [
    "import os\n",
    "import time"
   ]
  },
  {
   "cell_type": "code",
   "execution_count": 2,
   "metadata": {},
   "outputs": [],
   "source": [
    "from PIL import Image\n",
    "from datetime import datetime\n",
    "\n",
    "#Check if folder has \"A.jpg\",\"B.jpg\" and \"Z.jpg\" write log to root folder\n",
    "def checkValidFolder(folder_path):\n",
    "    all_jpgs = []\n",
    "    global log_file\n",
    "    global ok_folders\n",
    "    files = os.listdir(folder_path)\n",
    "    for file in files:\n",
    "        if file.endswith(\".jpg\"):\n",
    "            #all_jpgs.append(os.path.join(root, file))\n",
    "            all_jpgs.append(file)\n",
    "    if 'A.jpg' in all_jpgs and 'B.jpg' in all_jpgs and 'Z.jpg' in all_jpgs:\n",
    "        ok_folders.append(folder_path)\n",
    "        log_data = str(folder_path) + \"| validated and OK @ \" + str(datetime.now()) + \"\\n\"\n",
    "        with open(log_file,\"a\") as fl:\n",
    "            fl.write(log_data)\n",
    "        return 1\n",
    "    else:\n",
    "        log_data = str(folder_path) + \"| rejected @ \" + str(datetime.now()) + \"\\n\"\n",
    "        with open(log_file, \"a\") as fl:\n",
    "            fl.write(log_data)\n"
   ]
  },
  {
   "cell_type": "code",
   "execution_count": 17,
   "metadata": {},
   "outputs": [],
   "source": [
    "# Get validated OK folder and create 50 DPI PDF in image sequence\n",
    "# A.jpg, B.jpg, imagexxx1.jpg,imagexxx2.jpg,.......Z.jpg will be the sequence\n",
    "import img2pdf\n",
    "\n",
    "def createPDF(folder_path):\n",
    "    index_images = ['A.jpg','B.jpg','Z.jpg']\n",
    "    other_images = []\n",
    "    files = os.listdir(folder_path)\n",
    "    for fl in files:\n",
    "        if fl.endswith(\".jpg\") and fl not in index_images:\n",
    "            other_images.append(fl)\n",
    "    other_images.sort()\n",
    "    new_pdf_seq = index_images[:2]\n",
    "    new_pdf_seq.extend(other_images)\n",
    "    new_pdf_seq.extend(index_images[-1:])\n",
    "#     print(new_pdf_seq)\n",
    "    \n",
    "    new_pdf_images = [os.path.join(folder_path,s) for s in new_pdf_seq]\n",
    "#     print(new_pdf_images)\n",
    "    \n",
    "    output_pdf_name = os.path.join(folder_path,\"Output.pdf\")\n",
    "    with open(output_pdf_name, \"wb\") as f:\n",
    "        f.write(img2pdf.convert(new_pdf_images))\n",
    "\n",
    "\n",
    "\n"
   ]
  },
  {
   "cell_type": "code",
   "execution_count": 18,
   "metadata": {},
   "outputs": [],
   "source": [
    "# createPDF(\"E:\\image_conversion_test\\List-14 Rumal-1\\image_conversion_lot1\")"
   ]
  },
  {
   "cell_type": "code",
   "execution_count": 45,
   "metadata": {},
   "outputs": [],
   "source": [
    "# Get validated OK folder and create 300 DPI tiff in image sequence\n",
    "# A.jpg, B.jpg, imagexxx1.jpg,imagexxx2.jpg,.......Z.jpg will be the sequence\n",
    "\n",
    "from PIL import Image\n",
    "import PIL\n",
    "\n",
    "def createTIFF(folder_path):\n",
    "    index_images = ['A.jpg','B.jpg','Z.jpg']\n",
    "    other_images = []\n",
    "    files = os.listdir(folder_path)\n",
    "    for fl in files:\n",
    "        if fl.endswith(\".jpg\") and fl not in index_images:\n",
    "            other_images.append(fl)\n",
    "    other_images.sort()\n",
    "    new_tiff_seq = index_images[:2]\n",
    "    new_tiff_seq.extend(other_images)\n",
    "    new_tiff_seq.extend(index_images[-1:])\n",
    "#     print(new_pdf_seq)\n",
    "    \n",
    "    new_tiff_images = [os.path.join(folder_path,s) for s in new_tiff_seq]\n",
    "#     print(new_pdf_images)\n",
    "#     output_tiff_name = os.path.join(folder_path,\"Output.tiff\")\n",
    "    \n"
   ]
  },
  {
   "cell_type": "code",
   "execution_count": 21,
   "metadata": {},
   "outputs": [
    {
     "name": "stdout",
     "output_type": "stream",
     "text": [
      "Enter root folder path : E:\\image_conversion_test\n"
     ]
    }
   ],
   "source": [
    "root_folder = input('Enter root folder path : ')"
   ]
  },
  {
   "cell_type": "code",
   "execution_count": 22,
   "metadata": {},
   "outputs": [
    {
     "name": "stdout",
     "output_type": "stream",
     "text": [
      "\n",
      "\n",
      "Processing from root folder E:\\image_conversion_test\n",
      "\n",
      "\n"
     ]
    }
   ],
   "source": [
    "print(\"\\n\\nProcessing from root folder \" + str(root_folder) + \"\\n\\n\")\n",
    "time.sleep(3)"
   ]
  },
  {
   "cell_type": "code",
   "execution_count": 23,
   "metadata": {},
   "outputs": [],
   "source": [
    "## Declare global variables\n",
    "# get all subfolders in root\n",
    "all_subfolders = [x[0] for x in os.walk(root_folder)]\n",
    "\n",
    "# log file\n",
    "time_stamp = datetime.now()\n",
    "log_file = str(os.path.join(root_folder,\"logs_\"+str(time_stamp.strftime(\"%d%b%Y_%H%M%S\"))+\".txt\"))\n",
    "\n",
    "# Validated OK folders\n",
    "ok_folders = []"
   ]
  },
  {
   "cell_type": "code",
   "execution_count": 24,
   "metadata": {},
   "outputs": [],
   "source": [
    "for fldr in all_subfolders:\n",
    "    checkValidFolder(fldr)"
   ]
  },
  {
   "cell_type": "code",
   "execution_count": 46,
   "metadata": {},
   "outputs": [
    {
     "ename": "UnicodeDecodeError",
     "evalue": "'charmap' codec can't decode byte 0x8f in position 22: character maps to <undefined>",
     "output_type": "error",
     "traceback": [
      "\u001b[1;31m---------------------------------------------------------------------------\u001b[0m",
      "\u001b[1;31mUnicodeDecodeError\u001b[0m                        Traceback (most recent call last)",
      "\u001b[1;32m<ipython-input-46-63175f832302>\u001b[0m in \u001b[0;36m<module>\u001b[1;34m\u001b[0m\n\u001b[1;32m----> 1\u001b[1;33m \u001b[0mcreateTIFF\u001b[0m\u001b[1;33m(\u001b[0m\u001b[1;34m\"E:\\image_conversion_test\\List-14 Rumal-1\\image_conversion_lot1\"\u001b[0m\u001b[1;33m)\u001b[0m\u001b[1;33m\u001b[0m\u001b[1;33m\u001b[0m\u001b[0m\n\u001b[0m",
      "\u001b[1;32m<ipython-input-45-160b6e5864c4>\u001b[0m in \u001b[0;36mcreateTIFF\u001b[1;34m(folder_path)\u001b[0m\n\u001b[0;32m     24\u001b[0m         \u001b[1;32mfor\u001b[0m \u001b[0mtiff_in\u001b[0m \u001b[1;32min\u001b[0m \u001b[0mnew_tiff_images\u001b[0m\u001b[1;33m:\u001b[0m\u001b[1;33m\u001b[0m\u001b[1;33m\u001b[0m\u001b[0m\n\u001b[0;32m     25\u001b[0m             \u001b[1;32mwith\u001b[0m \u001b[0mopen\u001b[0m\u001b[1;33m(\u001b[0m\u001b[0mtiff_in\u001b[0m\u001b[1;33m)\u001b[0m \u001b[1;32mas\u001b[0m \u001b[0mtiff_in\u001b[0m\u001b[1;33m:\u001b[0m\u001b[1;33m\u001b[0m\u001b[1;33m\u001b[0m\u001b[0m\n\u001b[1;32m---> 26\u001b[1;33m                 \u001b[0mim\u001b[0m\u001b[1;33m=\u001b[0m \u001b[0mImage\u001b[0m\u001b[1;33m.\u001b[0m\u001b[0mopen\u001b[0m\u001b[1;33m(\u001b[0m\u001b[0mtiff_in\u001b[0m\u001b[1;33m)\u001b[0m\u001b[1;33m\u001b[0m\u001b[1;33m\u001b[0m\u001b[0m\n\u001b[0m\u001b[0;32m     27\u001b[0m                 \u001b[0mim\u001b[0m\u001b[1;33m.\u001b[0m\u001b[0msave\u001b[0m\u001b[1;33m(\u001b[0m\u001b[0mtf\u001b[0m\u001b[1;33m)\u001b[0m\u001b[1;33m\u001b[0m\u001b[1;33m\u001b[0m\u001b[0m\n\u001b[0;32m     28\u001b[0m                 \u001b[0mtf\u001b[0m\u001b[1;33m.\u001b[0m\u001b[0mnewFrame\u001b[0m\u001b[1;33m(\u001b[0m\u001b[1;33m)\u001b[0m\u001b[1;33m\u001b[0m\u001b[1;33m\u001b[0m\u001b[0m\n",
      "\u001b[1;32md:\\programdata\\python\\python36\\lib\\site-packages\\PIL\\Image.py\u001b[0m in \u001b[0;36mopen\u001b[1;34m(fp, mode)\u001b[0m\n\u001b[0;32m   2816\u001b[0m         \u001b[0mexclusive_fp\u001b[0m \u001b[1;33m=\u001b[0m \u001b[1;32mTrue\u001b[0m\u001b[1;33m\u001b[0m\u001b[1;33m\u001b[0m\u001b[0m\n\u001b[0;32m   2817\u001b[0m \u001b[1;33m\u001b[0m\u001b[0m\n\u001b[1;32m-> 2818\u001b[1;33m     \u001b[0mprefix\u001b[0m \u001b[1;33m=\u001b[0m \u001b[0mfp\u001b[0m\u001b[1;33m.\u001b[0m\u001b[0mread\u001b[0m\u001b[1;33m(\u001b[0m\u001b[1;36m16\u001b[0m\u001b[1;33m)\u001b[0m\u001b[1;33m\u001b[0m\u001b[1;33m\u001b[0m\u001b[0m\n\u001b[0m\u001b[0;32m   2819\u001b[0m \u001b[1;33m\u001b[0m\u001b[0m\n\u001b[0;32m   2820\u001b[0m     \u001b[0mpreinit\u001b[0m\u001b[1;33m(\u001b[0m\u001b[1;33m)\u001b[0m\u001b[1;33m\u001b[0m\u001b[1;33m\u001b[0m\u001b[0m\n",
      "\u001b[1;32md:\\programdata\\python\\python36\\lib\\encodings\\cp1252.py\u001b[0m in \u001b[0;36mdecode\u001b[1;34m(self, input, final)\u001b[0m\n\u001b[0;32m     21\u001b[0m \u001b[1;32mclass\u001b[0m \u001b[0mIncrementalDecoder\u001b[0m\u001b[1;33m(\u001b[0m\u001b[0mcodecs\u001b[0m\u001b[1;33m.\u001b[0m\u001b[0mIncrementalDecoder\u001b[0m\u001b[1;33m)\u001b[0m\u001b[1;33m:\u001b[0m\u001b[1;33m\u001b[0m\u001b[1;33m\u001b[0m\u001b[0m\n\u001b[0;32m     22\u001b[0m     \u001b[1;32mdef\u001b[0m \u001b[0mdecode\u001b[0m\u001b[1;33m(\u001b[0m\u001b[0mself\u001b[0m\u001b[1;33m,\u001b[0m \u001b[0minput\u001b[0m\u001b[1;33m,\u001b[0m \u001b[0mfinal\u001b[0m\u001b[1;33m=\u001b[0m\u001b[1;32mFalse\u001b[0m\u001b[1;33m)\u001b[0m\u001b[1;33m:\u001b[0m\u001b[1;33m\u001b[0m\u001b[1;33m\u001b[0m\u001b[0m\n\u001b[1;32m---> 23\u001b[1;33m         \u001b[1;32mreturn\u001b[0m \u001b[0mcodecs\u001b[0m\u001b[1;33m.\u001b[0m\u001b[0mcharmap_decode\u001b[0m\u001b[1;33m(\u001b[0m\u001b[0minput\u001b[0m\u001b[1;33m,\u001b[0m\u001b[0mself\u001b[0m\u001b[1;33m.\u001b[0m\u001b[0merrors\u001b[0m\u001b[1;33m,\u001b[0m\u001b[0mdecoding_table\u001b[0m\u001b[1;33m)\u001b[0m\u001b[1;33m[\u001b[0m\u001b[1;36m0\u001b[0m\u001b[1;33m]\u001b[0m\u001b[1;33m\u001b[0m\u001b[1;33m\u001b[0m\u001b[0m\n\u001b[0m\u001b[0;32m     24\u001b[0m \u001b[1;33m\u001b[0m\u001b[0m\n\u001b[0;32m     25\u001b[0m \u001b[1;32mclass\u001b[0m \u001b[0mStreamWriter\u001b[0m\u001b[1;33m(\u001b[0m\u001b[0mCodec\u001b[0m\u001b[1;33m,\u001b[0m\u001b[0mcodecs\u001b[0m\u001b[1;33m.\u001b[0m\u001b[0mStreamWriter\u001b[0m\u001b[1;33m)\u001b[0m\u001b[1;33m:\u001b[0m\u001b[1;33m\u001b[0m\u001b[1;33m\u001b[0m\u001b[0m\n",
      "\u001b[1;31mUnicodeDecodeError\u001b[0m: 'charmap' codec can't decode byte 0x8f in position 22: character maps to <undefined>"
     ]
    }
   ],
   "source": [
    "createTIFF(\"E:\\image_conversion_test\\List-14 Rumal-1\\image_conversion_lot1\")\n"
   ]
  },
  {
   "cell_type": "code",
   "execution_count": null,
   "metadata": {},
   "outputs": [],
   "source": []
  }
 ],
 "metadata": {
  "kernelspec": {
   "display_name": "Python 3",
   "language": "python",
   "name": "python3"
  },
  "language_info": {
   "codemirror_mode": {
    "name": "ipython",
    "version": 3
   },
   "file_extension": ".py",
   "mimetype": "text/x-python",
   "name": "python",
   "nbconvert_exporter": "python",
   "pygments_lexer": "ipython3",
   "version": "3.6.8"
  }
 },
 "nbformat": 4,
 "nbformat_minor": 2
}
